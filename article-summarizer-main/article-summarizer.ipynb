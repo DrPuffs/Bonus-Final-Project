{
 "cells": [
  {
   "cell_type": "markdown",
   "metadata": {},
   "source": [
    "# Web Mining and Applied NLP (44-620)\n",
    "\n",
    "## Final Project: Article Summarizer\n",
    "\n",
    "### Student Name: Ryan Shaw\n",
    "\n",
    "https://github.com/DrPuffs/Bonus-Final-Project\n",
    "\n",
    "\n",
    "Perform the tasks described in the Markdown cells below.  When you have completed the assignment make sure your code cells have all been run (and have output beneath them) and ensure you have committed and pushed ALL of your changes to your assignment repository.\n",
    "\n",
    "You should bring in code from previous assignments to help you answer the questions below.\n",
    "\n",
    "Every question that requires you to write code will have a code cell underneath it; you may either write your entire solution in that cell or write it in a python file (`.py`), then import and run the appropriate code to answer the question."
   ]
  },
  {
   "cell_type": "markdown",
   "metadata": {},
   "source": [
    "1. Find on the internet an article or blog post about a topic that interests you and you are able to get the text for using the technologies we have applied in the course.  Get the html for the article and store it in a file (which you must submit with your project)"
   ]
  },
  {
   "cell_type": "code",
   "execution_count": 2,
   "metadata": {},
   "outputs": [],
   "source": [
    "import requests\n",
    "import pickle\n",
    "from bs4 import BeautifulSoup\n",
    "import spacy\n",
    "from spacytextblob.spacytextblob import SpacyTextBlob\n",
    "from collections import Counter\n",
    "import matplotlib.pyplot as plt\n",
    "\n",
    "nlp = spacy.load('en_core_web_sm')\n",
    "nlp.add_pipe('spacytextblob')\n",
    "\n",
    "article_page = requests.get('https://www.fantasybookreview.co.uk/top-100-fantasy-books/')\n",
    "filename = 'Top 100 Fantasy Books'\n",
    "\n",
    "f = open(filename, 'wb')\n",
    "pickle.dump(article_page, f)\n",
    "f.close()"
   ]
  },
  {
   "cell_type": "markdown",
   "metadata": {},
   "source": [
    "2. Read in your article's html source from the file you created in question 1 and do sentiment analysis on the article/post's text (use `.get_text()`).  Print the polarity score with an appropriate label.  Additionally print the number of sentences in the original article (with an appropriate label)"
   ]
  },
  {
   "cell_type": "code",
   "execution_count": 3,
   "metadata": {},
   "outputs": [
    {
     "name": "stdout",
     "output_type": "stream",
     "text": [
      "Polarity Score: 0.22845993839060208\n",
      "Number of Sentences: 527\n"
     ]
    }
   ],
   "source": [
    "with open(filename, 'rb') as f:\n",
    "    article_html = pickle.load(f)\n",
    "    \n",
    "soup = BeautifulSoup(article_html.content, 'html5lib')\n",
    "\n",
    "article_element = soup.find(\"div\", {\"id\":\"main\"}).get_text()\n",
    "\n",
    "doc = nlp(article_element)\n",
    "sentiment = doc._.blob.polarity\n",
    "\n",
    "sent_count = 0\n",
    "for x in doc.sents:\n",
    "    sent_count += 1\n",
    "    \n",
    "\n",
    "print(f'Polarity Score: {sentiment}')\n",
    "print(f'Number of Sentences: {sent_count}')\n",
    "\n"
   ]
  },
  {
   "cell_type": "markdown",
   "metadata": {},
   "source": [
    "3. Load the article text into a trained `spaCy` pipeline, and determine the 5 most frequent tokens (converted to lower case).  Print the common tokens with an appropriate label.  Additionally, print the tokens their frequencies (with appropriate labels)"
   ]
  },
  {
   "cell_type": "code",
   "execution_count": 4,
   "metadata": {},
   "outputs": [
    {
     "name": "stdout",
     "output_type": "stream",
     "text": [
      "[('Published', 100), ('Buy', 100), ('Amazon', 100), ('book', 75), ('Fantasy', 71)]\n",
      "The five most common tokens are: Published, Buy, Amazon, book, and Fantasy.\n",
      "Their frequencies are in order as follows: 100, 100, 100, 75, and 71.\n"
     ]
    }
   ],
   "source": [
    "def proper_tokens(token):\n",
    "    return not (token.is_space or token.is_punct or token.is_stop)\n",
    "\n",
    "tocs = [token for token in doc if proper_tokens(token)]\n",
    "words = Counter(map(str, tocs))\n",
    "most_common = words.most_common(5)\n",
    "\n",
    "print(words.most_common(5))\n",
    "\n",
    "print(f'The five most common tokens are: {most_common[0][0]}, {most_common[1][0]}, {most_common[2][0]}, {most_common[3][0]}, and {most_common[4][0]}.')\n",
    "print(f'Their frequencies are in order as follows: {most_common[0][1]}, {most_common[1][1]}, {most_common[2][1]}, {most_common[3][1]}, and {most_common[4][1]}.')"
   ]
  },
  {
   "cell_type": "markdown",
   "metadata": {},
   "source": [
    "4. Load the article text into a trained `spaCy` pipeline, and determine the 5 most frequent lemmas (converted to lower case).  Print the common lemmas with an appropriate label.  Additionally, print the lemmas with their frequencies (with appropriate labels)."
   ]
  },
  {
   "cell_type": "code",
   "execution_count": 34,
   "metadata": {},
   "outputs": [
    {
     "name": "stdout",
     "output_type": "stream",
     "text": [
      "[('book', 109), ('publish', 105), ('buy', 101), ('Amazon', 100), ('Fantasy', 71)]\n",
      "The five most common lemmas are: book, publish, buy, Amazon, and Fantasy.\n",
      "Their frequencies are in order as follows: 109, 105, 101, 100, and 71.\n"
     ]
    }
   ],
   "source": [
    "lemmas = [token.lemma_ for token in doc if proper_tokens(token)]\n",
    "words = Counter(map(str, lemmas))\n",
    "most_lemmas = words.most_common(5)\n",
    "\n",
    "print(most_lemmas)\n",
    "print(f'The five most common lemmas are: {most_lemmas[0][0]}, {most_lemmas[1][0]}, {most_lemmas[2][0]}, {most_lemmas[3][0]}, and {most_lemmas[4][0]}.')\n",
    "print(f'Their frequencies are in order as follows: {most_lemmas[0][1]}, {most_lemmas[1][1]}, {most_lemmas[2][1]}, {most_lemmas[3][1]}, and {most_lemmas[4][1]}.')"
   ]
  },
  {
   "cell_type": "markdown",
   "metadata": {},
   "source": [
    "5. Make a list containing the scores (using tokens) of every sentence in the article, and plot a histogram with appropriate titles and axis labels of the scores. From your histogram, what seems to be the most common range of scores (put the answer in a comment after your code)?"
   ]
  },
  {
   "cell_type": "code",
   "execution_count": 35,
   "metadata": {},
   "outputs": [
    {
     "data": {
      "image/png": "[encoded data removed]",
      "text/plain": [
       "<Figure size 640x480 with 1 Axes>"
      ]
     },
     "metadata": {},
     "output_type": "display_data"
    }
   ],
   "source": [
    "sentences = list(doc.sents)\n",
    "token_scores = []\n",
    "\n",
    "def score_sentence_by_token(sentence, interesting_token):\n",
    "    count_a = 0\n",
    "    count_b = 0\n",
    "    \n",
    "    for i in interesting_token:\n",
    "        for j in sentence:\n",
    "            if j == i:\n",
    "                count_a += 1\n",
    "        count_b += 1\n",
    "\n",
    "    return (count_a/count_b)\n",
    "\n",
    "for x in sentences:\n",
    "    token_scores.append(score_sentence_by_token(x,tocs))\n",
    "    \n",
    "plt.hist(token_scores)\n",
    "plt.title(\"Token Scores\")\n",
    "plt.xlabel(\"Score\")\n",
    "plt.ylabel(\"Sentence Number\")\n",
    "plt.show()\n",
    "\n",
    "#Between 0.001 and 0.002.\n",
    "\n"
   ]
  },
  {
   "cell_type": "markdown",
   "metadata": {},
   "source": [
    "6. Make a list containing the scores (using lemmas) of every sentence in the article, and plot a histogram with appropriate titles and axis labels of the scores.  From your histogram, what seems to be the most common range of scores (put the answer in a comment after your code)?"
   ]
  },
  {
   "cell_type": "code",
   "execution_count": 36,
   "metadata": {},
   "outputs": [
    {
     "data": {
      "image/png": "[encoded data removed]",
      "text/plain": [
       "<Figure size 640x480 with 1 Axes>"
      ]
     },
     "metadata": {},
     "output_type": "display_data"
    }
   ],
   "source": [
    "lemma_scores = []\n",
    "\n",
    "def score_sentence_by_lemma(sentence, interesting_lemmas):\n",
    "    count_y = 0\n",
    "    count_z = 0\n",
    "\n",
    "\n",
    "    for i in interesting_lemmas:\n",
    "        for j in sentence:\n",
    "            if j.text == i:\n",
    "                count_y += 1\n",
    "        count_z += 1\n",
    "\n",
    "    return (count_y/count_z)\n",
    "\n",
    "for x in sentences:\n",
    "    lemma_scores.append(score_sentence_by_lemma(x,lemmas))\n",
    "    \n",
    "plt.hist(lemma_scores)\n",
    "plt.title(\"Lemma Scores\")\n",
    "plt.xlabel(\"Score\")\n",
    "plt.ylabel(\"Sentence Number\")\n",
    "plt.show()\n",
    "\n",
    "# Between 0 and 0.01"
   ]
  },
  {
   "cell_type": "markdown",
   "metadata": {},
   "source": [
    "7. Using the histograms from questions 5 and 6, decide a \"cutoff\" score for tokens and lemmas such that fewer than half the sentences would have a score greater than the cutoff score.  Record the scores in this Markdown cell\n",
    "\n",
    "* Cutoff Score (tokens): 0.006\n",
    "* Cutoff Score (lemmas): 0.09\n",
    "\n",
    "Feel free to change these scores as you generate your summaries.  Ideally, we're shooting for at least 6 sentences for our summary, but don't want more than 10 (these numbers are rough estimates; they depend on the length of your article)."
   ]
  },
  {
   "cell_type": "markdown",
   "metadata": {},
   "source": [
    "8. Create a summary of the article by going through every sentence in the article and adding it to an (initially) empty list if its score (based on tokens) is greater than the cutoff score you identified in question 8.  If your loop variable is named `sent`, you may find it easier to add `sent.text.strip()` to your list of sentences.  Print the summary (I would cleanly generate the summary text by `join`ing the strings in your list together with a space (`' '.join(sentence_list)`)."
   ]
  },
  {
   "cell_type": "code",
   "execution_count": 20,
   "metadata": {},
   "outputs": [
    {
     "name": "stdout",
     "output_type": "stream",
     "text": [
      "At times horrific, beautiful, tragic, comic and even uplifting, with a plot which takes unexpected turns and twists and revelations, one of the most unique settings imaginable and above all a style of dark poetry that is truly exceptional.\n",
      "Published: 2000 | World Fantasy Award Nominee: 2005 (The Iron Council), 2003 (The Scar), 2001 (Perdido Street Station) Harry Potter and the Philosopher's Stone by JK Rowling (Harry Potter)\n",
      "Nestlé Smarties Book Prize Winner: 1999 (Harry Potter and the Prisoner of Azkaban), 1998 (Harry Potter and the Chamber of Secrets), 1997 (Harry Potter and the Philosopher's Stone)The seven Harry Potter books are very well-written and laugh-out-loud funny, and it makes for an intoxicating combination. James and the Giant Peach by Roald Dahl\n",
      "World Fantasy Award for Lifetime Achievement: 1983When Dahl made up James and the Giant Peach as a bedtime story for his daughters Olivia and Tessa, little could he have know that half a century later millions of parents would have read exactly the same story to their own children; a book that fully deserves the accolade of children’s classic.\n",
      " 11/22/63, the date that Kennedy was shot - unless... King takes his protagonist Jake Epping, a high school English teacher from Lisbon Falls, Maine, 2011, on a fascinating journey back to 1958 - from a world of mobile phones and iPods to a new world of Elvis and JFK, of Plymouth Fury cars and Lindy Hopping, of a troubled loner named Lee Harvey Oswald and a beautiful high school librarian named Sadie Dunhill, who becomes the love of Jake's life - a life that transgresses all the normal rules of time.\n"
     ]
    }
   ],
   "source": [
    "tok_summary = []\n",
    "cutoff_score = 0.006\n",
    "\n",
    "for x in sentences:\n",
    "    score = score_sentence_by_token(x,tocs)\n",
    "    if score > cutoff_score:\n",
    "        tok_summary.append(x.text)\n",
    "print(' '.join(tok_summary))"
   ]
  },
  {
   "cell_type": "markdown",
   "metadata": {},
   "source": [
    "9. Print the polarity score of your summary you generated with the token scores (with an appropriate label). Additionally, print the number of sentences in the summarized article."
   ]
  },
  {
   "cell_type": "code",
   "execution_count": 38,
   "metadata": {},
   "outputs": [
    {
     "name": "stdout",
     "output_type": "stream",
     "text": [
      "Polarity Score: 0.2322804632190915\n",
      "Number of Sentences: 118\n"
     ]
    }
   ],
   "source": [
    "summary_sum = 0\n",
    "\n",
    "docu = nlp(' '.join(tok_summary))\n",
    "polarity_score = docu._.blob.polarity\n",
    "\n",
    "for x in tok_summary:\n",
    "    summary_sum += 1\n",
    "\n",
    "print(f'Polarity Score: {polarity_score}')    \n",
    "print(f'Number of Sentences: {summary_sum}')"
   ]
  },
  {
   "cell_type": "markdown",
   "metadata": {},
   "source": [
    "10. Create a summary of the article by going through every sentence in the article and adding it to an (initially) empty list if its score (based on lemmas) is greater than the cutoff score you identified in question 8.  If your loop variable is named `sent`, you may find it easier to add `sent.text.strip()` to your list of sentences.  Print the summary (I would cleanly generate the summary text by `join`ing the strings in your list together with a space (`' '.join(sentence_list)`)."
   ]
  },
  {
   "cell_type": "code",
   "execution_count": 31,
   "metadata": {},
   "outputs": [
    {
     "name": "stdout",
     "output_type": "stream",
     "text": [
      "Published: 2004 | World Fantasy Award Winner: 2005 | British Fantasy Award Nominee: 2005\n",
      "\n",
      "\n",
      "Buy on Amazon\n",
      "\n",
      "\n",
      "5. Published: 2006 | World Fantasy Award Nominee: 2007 | British Fantasy Award Nominee: 2007\n",
      "\n",
      "\n",
      "Buy on Amazon\n",
      "\n",
      "\n",
      "7. Published: 2001 | World Fantasy Award Nominee: 2002 | British Fantasy Award Nominee: 2002\n",
      "\n",
      "\n",
      "Buy on Amazon\n",
      "\n",
      "\n",
      "8. Magician by Raymond E Feist (Riftwar Saga)\n",
      "Feist's Magician is one of the best known and well read fantasy books; it is a powerful and memorable book that any reader who derives pleasure from reading epic fantasy should read being classic fantasy imbued with many elements of originality.  James and the Giant Peach by Roald Dahl\n",
      "World Fantasy Award for Lifetime Achievement: 1983When Dahl made up James and the Giant Peach as a bedtime story for his daughters Olivia and Tessa, little could he have know that half a century later millions of parents would have read exactly the same story to their own children; a book that fully deserves the accolade of children’s classic.\n",
      " Published: 2010 | World Fantasy Award Nominee: 2011 | British Fantasy Award Nominee: 2011\n",
      "\n",
      "\n",
      "Buy on Amazon\n",
      "\n",
      "\n",
      "86.\n"
     ]
    }
   ],
   "source": [
    "lem_summary = []\n",
    "cutoff_score = 0.09\n",
    "\n",
    "for x in sentences:\n",
    "    score = score_sentence_by_lemma(x,lemmas)\n",
    "    if score > cutoff_score:\n",
    "        lem_summary.append(x.text)\n",
    "print(' '.join(lem_summary))"
   ]
  },
  {
   "cell_type": "markdown",
   "metadata": {},
   "source": [
    "11. Print the polarity score of your summary you generated with the lemma scores (with an appropriate label). Additionally, print the number of sentences in the summarized article."
   ]
  },
  {
   "cell_type": "code",
   "execution_count": 39,
   "metadata": {},
   "outputs": [
    {
     "name": "stdout",
     "output_type": "stream",
     "text": [
      "Polarity Score: 0.16995614035087722\n",
      "Number of Sentences: 6\n"
     ]
    }
   ],
   "source": [
    "summary_sum = 0\n",
    "\n",
    "docu = nlp(' '.join(lem_summary))\n",
    "polarity_score = docu._.blob.polarity\n",
    "\n",
    "for x in lem_summary:\n",
    "    summary_sum += 1\n",
    "\n",
    "print(f'Polarity Score: {polarity_score}')    \n",
    "print(f'Number of Sentences: {summary_sum}')"
   ]
  },
  {
   "cell_type": "markdown",
   "metadata": {},
   "source": [
    "12.  Compare your polarity scores of your summaries to the polarity scores of the initial article.  Is there a difference?  Why do you think that may or may not be?.  Answer in this Markdown cell. \n",
    "\n",
    "Original Polarity Score: 0.22845993839060208\n",
    "Token Polarity Score: 0.13259775171065497\n",
    "Lemma Polarity Score: 0.16995614035087722\n",
    "\n",
    "The difference is easy to see when looking at the Token vs Lemma polarity summaries. In the Token summary, you can see several negative words being used like: \"tragic\", \"horrific\", and \"dark\". While in the Lemma summary, you have: \"powerful\", \"pleasure\", and \"memorable\". For the original article, it is less clear without reading through the whole thing. However, I believe that the Lemma summary scores lower simply due to the fact that the majority of the summary is made up of numbers, publish dates, award information, and telling the reader to buy on Amazon. There is probably some cleaning that needs done to exclude some of these."
   ]
  },
  {
   "cell_type": "markdown",
   "metadata": {},
   "source": [
    "13. Based on your reading of the original article, which summary do you think is better (if there's a difference).  Why do you think this might be?\n",
    "\n",
    "Neither is great and need additional filtering. However, I think that the Lemma summary is organized better and does a better job of showing the original article format and what the original article was all about."
   ]
  },
  {
   "cell_type": "code",
   "execution_count": null,
   "metadata": {},
   "outputs": [],
   "source": []
  }
 ],
 "metadata": {
  "kernelspec": {
   "display_name": "Python 3 (ipykernel)",
   "language": "python",
   "name": "python3"
  },
  "language_info": {
   "codemirror_mode": {
    "name": "ipython",
    "version": 3
   },
   "file_extension": ".py",
   "mimetype": "text/x-python",
   "name": "python",
   "nbconvert_exporter": "python",
   "pygments_lexer": "ipython3",
   "version": "3.11.0"
  },
  "vscode": {
   "interpreter": {
    "hash": "3b7e9cb8e453d6cda0fe8c8dd13f891a1f09162f0e7c66ffeae7751a7aecf00d"
   }
  }
 },
 "nbformat": 4,
 "nbformat_minor": 4
}
